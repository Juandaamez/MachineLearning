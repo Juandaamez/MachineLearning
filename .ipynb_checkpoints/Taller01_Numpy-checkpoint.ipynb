{
 "cells": [
  {
   "cell_type": "markdown",
   "id": "d351f9fc",
   "metadata": {},
   "source": [
    "# Author: Juan David Amezquita Nuñez"
   ]
  },
  {
   "cell_type": "markdown",
   "id": "5cf1fc4c",
   "metadata": {},
   "source": [
    "Taller 01: Numpy"
   ]
  },
  {
   "cell_type": "code",
   "execution_count": 2,
   "id": "806f646f",
   "metadata": {},
   "outputs": [],
   "source": [
    "import numpy as np"
   ]
  },
  {
   "cell_type": "code",
   "execution_count": 3,
   "id": "9c023f01",
   "metadata": {},
   "outputs": [
    {
     "name": "stdout",
     "output_type": "stream",
     "text": [
      "[10 10 10 10 10]\n"
     ]
    }
   ],
   "source": [
    "#1. Crear un arreglo de 5 elementos enteros, todos iguales a 10.\n",
    "array = np.full(5,10)\n",
    "print(array)"
   ]
  },
  {
   "cell_type": "code",
   "execution_count": 4,
   "id": "dded2e00",
   "metadata": {},
   "outputs": [
    {
     "name": "stdout",
     "output_type": "stream",
     "text": [
      "[[5 5 5]\n",
      " [5 5 5]]\n"
     ]
    }
   ],
   "source": [
    "# 2. Crear una matriz 2x3 con todos los elementos iguales a 5.\n",
    "matrix = np.full((2, 3), 5)\n",
    "print(matrix)"
   ]
  },
  {
   "cell_type": "code",
   "execution_count": 8,
   "id": "af4b9a64",
   "metadata": {},
   "outputs": [
    {
     "name": "stdout",
     "output_type": "stream",
     "text": [
      "[[[6 5 7]\n",
      "  [5 4 6]]\n",
      "\n",
      " [[4 7 1]\n",
      "  [6 8 9]]\n",
      "\n",
      " [[6 7 9]\n",
      "  [9 5 7]]]\n"
     ]
    }
   ],
   "source": [
    "# 3. Crear un arreglo multidimensional aleatorio de 3 tensores, cada uno de 2 filas y 3 columna.\n",
    "arraytup = np.random.randint(1, 10, (3, 2, 3))\n",
    "print(arraytup)"
   ]
  },
  {
   "cell_type": "code",
   "execution_count": 11,
   "id": "4d65b9cf",
   "metadata": {},
   "outputs": [
    {
     "name": "stdout",
     "output_type": "stream",
     "text": [
      "Suma:  [ 7  9 11 13 15]\n",
      "Resta:  [-5 -5 -5 -5 -5]\n",
      "Multiplicacion:  [ 6 14 24 36 50]\n"
     ]
    }
   ],
   "source": [
    "# 4. Dados los siguientes arreglos:\n",
    "arr1 = np.array([1, 2, 3, 4, 5]) \n",
    "arr2 = np.array([6, 7, 8, 9, 10])\n",
    "#Sumar, restar y multiplicar.\n",
    "sum = arr1 + arr2\n",
    "res = arr1 - arr2\n",
    "mult = arr1 * arr2\n",
    "print(\"Suma: \", sum)\n",
    "print(\"Resta: \", res)\n",
    "print(\"Multiplicacion: \", mult)"
   ]
  },
  {
   "cell_type": "code",
   "execution_count": 12,
   "id": "913dde59",
   "metadata": {},
   "outputs": [
    {
     "name": "stdout",
     "output_type": "stream",
     "text": [
      "23.285714285714285\n",
      "4.681705602335411\n"
     ]
    }
   ],
   "source": [
    "# 5. Dado el siguiente arreglo:\n",
    "data = np.array([23, 17, 25, 30, 21, 29, 18])\n",
    "#Calcular la media y la desviación estándar.\n",
    "media = np.mean(data)\n",
    "desviacion = np.std(data)\n",
    "print(media)\n",
    "print(desviacion)"
   ]
  },
  {
   "cell_type": "code",
   "execution_count": 13,
   "id": "0615def4",
   "metadata": {},
   "outputs": [
    {
     "name": "stdout",
     "output_type": "stream",
     "text": [
      "[12 15 10 14]\n"
     ]
    }
   ],
   "source": [
    "# 6. Dado el siguiente arreglo:\n",
    "datos = np.array([12, 15, 8, 10, 5, 14, 9, 7])\n",
    "# Crear un nuevo arreglo que contenga los elementos mayores o iguales a 10.\n",
    "condicion = datos >= 10\n",
    "nuevo = datos[condicion]\n",
    "print(nuevo)"
   ]
  },
  {
   "cell_type": "code",
   "execution_count": 14,
   "id": "f6baeaad",
   "metadata": {},
   "outputs": [
    {
     "name": "stdout",
     "output_type": "stream",
     "text": [
      "7.1:  24\n",
      "7.2:  [18 20 22 24]\n",
      "7.3:  [15 10 20]\n"
     ]
    }
   ],
   "source": [
    "# 7. Dado el siguiente arreglo: \n",
    "data = np.array([[12, 15, 20, 25], [8, 10, 12, 14], [18, 20, 22, 24]])\n",
    "\n",
    "# 7.1 Mostrar el numero por pantalla el numero 24.\n",
    "print(\"7.1: \", data[2,3])\n",
    "# 7.2 Mostrar la fila 3: [18,20,22,24].\n",
    "print(\"7.2: \", data[2,:])\n",
    "# 7.3 Mostrar la columna 2: [15,10,20].\n",
    "print(\"7.3: \", data[:,1])"
   ]
  },
  {
   "cell_type": "code",
   "execution_count": 15,
   "id": "aaa75d30",
   "metadata": {},
   "outputs": [
    {
     "name": "stdout",
     "output_type": "stream",
     "text": [
      "8.1:  (128,)\n",
      "8.2:  (64, 2)\n"
     ]
    }
   ],
   "source": [
    "# 8. Dado el siguiente arreglo multidimensional:\n",
    "arregloMultiD = np.random.rand(4,8,4)\n",
    "\n",
    "# 8.1 Volverlo de manera lineal.\n",
    "lineal = arregloMultiD.ravel()\n",
    "print(\"8.1: \", lineal.shape)\n",
    "# 8.2 Reajustarlo en tuplas:\n",
    "tuplas = lineal.reshape(-1,2) # -1 significa que NumPy infiere el número de filas\n",
    "print(\"8.2: \", tuplas.shape)"
   ]
  },
  {
   "cell_type": "code",
   "execution_count": null,
   "id": "f94a9b18",
   "metadata": {},
   "outputs": [],
   "source": []
  }
 ],
 "metadata": {
  "kernelspec": {
   "display_name": "Python 3 (ipykernel)",
   "language": "python",
   "name": "python3"
  },
  "language_info": {
   "codemirror_mode": {
    "name": "ipython",
    "version": 3
   },
   "file_extension": ".py",
   "mimetype": "text/x-python",
   "name": "python",
   "nbconvert_exporter": "python",
   "pygments_lexer": "ipython3",
   "version": "3.10.9"
  }
 },
 "nbformat": 4,
 "nbformat_minor": 5
}
