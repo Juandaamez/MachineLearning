{
 "cells": [
  {
   "cell_type": "code",
   "execution_count": 1,
   "metadata": {},
   "outputs": [],
   "source": [
    "import pandas as pd\n",
    "import random\n",
    "\n",
    "n = 1000 # Numero dde filas, de datos que vamos a generar\n",
    "data = {\n",
    "    'Tempo' : [random.uniform(60, 180) for _ in range (n)], #Tempo en BPM\n",
    "    'Energia': [random.uniform(0, 1) for _ in range (n)], #Energia de la cancion\n",
    "    'Tono': [random.uniform(1, 10) for _ in range (n)], #Tono de la cancion\n",
    "    'Like':[random.choice([0, 1]) for _ in range (n)] #Like (0: Dislike; 1: Like)\n",
    "}\n",
    "\n",
    "#Crear dataframe en pandas con los daatos generados\n",
    "df = pd.DataFrame(data)\n",
    "\n",
    "df.to_csv('music_data_features.csv', index=False)"
   ]
  },
  {
   "cell_type": "markdown",
   "metadata": {},
   "source": [
    "Creacion de un dataset de predicciones"
   ]
  },
  {
   "cell_type": "code",
   "execution_count": 2,
   "metadata": {},
   "outputs": [],
   "source": [
    "import pandas as pd\n",
    "import random\n",
    "\n",
    "n = 10000 # Numero dde filas, de datos que vamos a generar\n",
    "data = {\n",
    "    'Tempo' : [random.uniform(60, 180) for _ in range (n)], #Tempo en BPM\n",
    "    'Energia': [random.uniform(0, 1) for _ in range (n)], #Energia de la cancion\n",
    "    'Tono': [random.uniform(1, 10) for _ in range (n)], #Tono de la cancion\n",
    "    'Like':[random.choice([0, 1]) for _ in range (n)] #Like (0: Dislike; 1: Like)\n",
    "}\n",
    "\n",
    "#Crear dataframe en pandas con los daatos generados\n",
    "df = pd.DataFrame(data)\n",
    "\n",
    "df.to_csv('music_data.csv', index=False)"
   ]
  },
  {
   "cell_type": "markdown",
   "metadata": {},
   "source": [
    "# Reg Log"
   ]
  },
  {
   "cell_type": "code",
   "execution_count": 2,
   "metadata": {},
   "outputs": [
    {
     "name": "stdout",
     "output_type": "stream",
     "text": [
      "Precision del modelo en los datos de prueba:0.50\n",
      "Matrizde confusion en los datos de prueba: \n",
      "[[3492 1451]\n",
      " [3500 1557]]\n"
     ]
    }
   ],
   "source": [
    "import pandas as pd\n",
    "from sklearn.linear_model import LogisticRegression\n",
    "from sklearn.metrics import accuracy_score, confusion_matrix\n",
    "\n",
    "#Cargar los datos de entrenamiento desde un archivo csv\n",
    "data_train = pd.read_csv('music_data_features.csv')\n",
    "\n",
    "#Dividir los datos de enttrenamiento en caracteristicas (X_train)  y etiquetas (Y_train)\n",
    "X_train = data_train.drop('Like', axis = 1)\n",
    "Y_train = data_train['Like']\n",
    "\n",
    "#Crear  entrenar el modelo de regresion logistica con los datos de entrenamiento\n",
    "model = LogisticRegression(random_state=42, max_iter=10000)\n",
    "model.fit(X_train, Y_train)\n",
    "\n",
    "#Cargar los datos de prueba desde el archivo csv\n",
    "data_set = pd.read_csv('music_data.csv')\n",
    "\n",
    "#Dividir los datos de prueba en caracteristicas (X_test) y etiquetas (Y_test)\n",
    "X_test = data_set.drop('Like', axis = 1)\n",
    "Y_test= data_set['Like']\n",
    "\n",
    "#Realizar la predicción\n",
    "Y_pred = model.predict(X_test)\n",
    "\n",
    "#Calcular la precision del modelo en los datos de prueba\n",
    "accuracy = accuracy_score(Y_test, Y_pred)\n",
    "print(f'Precision del modelo en los datos de prueba:{accuracy:.2f}')\n",
    "\n",
    "#Mostrar la matriz de confusion en los datos de prueba\n",
    "conf_matrix = confusion_matrix(Y_test, Y_pred)\n",
    "print('Matrizde confusion en los datos de prueba: ')\n",
    "print(conf_matrix)"
   ]
  },
  {
   "cell_type": "markdown",
   "metadata": {},
   "source": [
    "# Matriz confusion"
   ]
  },
  {
   "cell_type": "markdown",
   "metadata": {},
   "source": [
    "La matriz de confusion es una tabla que se utiliza para evaluar el rendimiento dde un codelo de clasificacion\n",
    "\n",
    "Muestra cuantas de las predicciones caen en diversas categorias:\n",
    "\n",
    "Verdadero positivo (TP), Falsos positivos (FP)\n",
    "\n",
    "Verdaderos negativos (TN), Falsos negativos (FN)\n"
   ]
  },
  {
   "cell_type": "markdown",
   "metadata": {},
   "source": [
    "(TP) significa que el modelo predijo correctamente que algo pertenece a la clase positiva\n",
    "\n",
    "(FP) significa que el modelo predijo incorrectamente que algo pertenece a la clase positiva cuando en realidad no lo hace.\n",
    "\n",
    "(TN) Significa que el modelo predijo correctamente que algo pertenece a la clase negativa\n",
    "\n",
    "(FN) Significa que el modelo predijo incorrectamente que algo pertenece a la clase negativa cuando en realidad no lo hace."
   ]
  },
  {
   "cell_type": "code",
   "execution_count": null,
   "metadata": {},
   "outputs": [],
   "source": []
  }
 ],
 "metadata": {
  "kernelspec": {
   "display_name": "Python 3",
   "language": "python",
   "name": "python3"
  },
  "language_info": {
   "codemirror_mode": {
    "name": "ipython",
    "version": 3
   },
   "file_extension": ".py",
   "mimetype": "text/x-python",
   "name": "python",
   "nbconvert_exporter": "python",
   "pygments_lexer": "ipython3",
   "version": "3.10.9"
  },
  "orig_nbformat": 4
 },
 "nbformat": 4,
 "nbformat_minor": 2
}
